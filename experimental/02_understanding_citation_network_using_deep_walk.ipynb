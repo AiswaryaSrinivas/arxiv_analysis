{
 "metadata": {
  "language_info": {
   "codemirror_mode": {
    "name": "ipython",
    "version": 3
   },
   "file_extension": ".py",
   "mimetype": "text/x-python",
   "name": "python",
   "nbconvert_exporter": "python",
   "pygments_lexer": "ipython3",
   "version": "3.8.8"
  },
  "orig_nbformat": 2,
  "kernelspec": {
   "name": "python388jvsc74a57bd0dca0ade3e726a953b501b15e8e990130d2b7799f14cfd9f4271676035ebe5511",
   "display_name": "Python 3.8.8 64-bit ('base': conda)"
  }
 },
 "nbformat": 4,
 "nbformat_minor": 2,
 "cells": [
  {
   "source": [
    "# Introduction\n",
    "\n",
    "This code is to help build a citation network for papers in ARXiv. For this work, we will only consider the papers tagged AI/ML. We will also use dask to read the data.\n",
    "\n",
    "As a first step, I will get the latest data from kaggle and update it to the arxiv_analysis/data/example path \n",
    "\n"
   ],
   "cell_type": "markdown",
   "metadata": {}
  },
  {
   "cell_type": "code",
   "execution_count": 60,
   "metadata": {},
   "outputs": [
    {
     "output_type": "stream",
     "name": "stdout",
     "text": [
      "The autoreload extension is already loaded. To reload it, use:\n  %reload_ext autoreload\n"
     ]
    }
   ],
   "source": [
    "%load_ext autoreload\n",
    "%autoreload 2"
   ]
  },
  {
   "cell_type": "code",
   "execution_count": 61,
   "metadata": {},
   "outputs": [
    {
     "output_type": "stream",
     "name": "stdout",
     "text": [
      "Requirement already satisfied: pyvis in /opt/anaconda3/lib/python3.8/site-packages (0.1.9)\n",
      "Requirement already satisfied: networkx>=1.11 in /opt/anaconda3/lib/python3.8/site-packages (from pyvis) (2.5)\n",
      "Requirement already satisfied: jsonpickle>=1.4.1 in /opt/anaconda3/lib/python3.8/site-packages (from pyvis) (2.0.0)\n",
      "Requirement already satisfied: ipython>=5.3.0 in /opt/anaconda3/lib/python3.8/site-packages (from pyvis) (7.22.0)\n",
      "Requirement already satisfied: jinja2>=2.9.6 in /opt/anaconda3/lib/python3.8/site-packages (from pyvis) (2.11.3)\n",
      "Requirement already satisfied: pexpect>4.3 in /opt/anaconda3/lib/python3.8/site-packages (from ipython>=5.3.0->pyvis) (4.8.0)\n",
      "Requirement already satisfied: prompt-toolkit!=3.0.0,!=3.0.1,<3.1.0,>=2.0.0 in /opt/anaconda3/lib/python3.8/site-packages (from ipython>=5.3.0->pyvis) (3.0.17)\n",
      "Requirement already satisfied: setuptools>=18.5 in /opt/anaconda3/lib/python3.8/site-packages (from ipython>=5.3.0->pyvis) (52.0.0.post20210125)\n",
      "Requirement already satisfied: pickleshare in /opt/anaconda3/lib/python3.8/site-packages (from ipython>=5.3.0->pyvis) (0.7.5)\n",
      "Requirement already satisfied: backcall in /opt/anaconda3/lib/python3.8/site-packages (from ipython>=5.3.0->pyvis) (0.2.0)\n",
      "Requirement already satisfied: pygments in /opt/anaconda3/lib/python3.8/site-packages (from ipython>=5.3.0->pyvis) (2.8.1)\n",
      "Requirement already satisfied: jedi>=0.16 in /opt/anaconda3/lib/python3.8/site-packages (from ipython>=5.3.0->pyvis) (0.17.2)\n",
      "Requirement already satisfied: appnope in /opt/anaconda3/lib/python3.8/site-packages (from ipython>=5.3.0->pyvis) (0.1.2)\n",
      "Requirement already satisfied: decorator in /opt/anaconda3/lib/python3.8/site-packages (from ipython>=5.3.0->pyvis) (5.0.6)\n",
      "Requirement already satisfied: traitlets>=4.2 in /opt/anaconda3/lib/python3.8/site-packages (from ipython>=5.3.0->pyvis) (5.0.5)\n",
      "Requirement already satisfied: parso<0.8.0,>=0.7.0 in /opt/anaconda3/lib/python3.8/site-packages (from jedi>=0.16->ipython>=5.3.0->pyvis) (0.7.0)\n",
      "Requirement already satisfied: MarkupSafe>=0.23 in /opt/anaconda3/lib/python3.8/site-packages (from jinja2>=2.9.6->pyvis) (1.1.1)\n",
      "Requirement already satisfied: ptyprocess>=0.5 in /opt/anaconda3/lib/python3.8/site-packages (from pexpect>4.3->ipython>=5.3.0->pyvis) (0.7.0)\n",
      "Requirement already satisfied: wcwidth in /opt/anaconda3/lib/python3.8/site-packages (from prompt-toolkit!=3.0.0,!=3.0.1,<3.1.0,>=2.0.0->ipython>=5.3.0->pyvis) (0.2.5)\n",
      "Requirement already satisfied: ipython-genutils in /opt/anaconda3/lib/python3.8/site-packages (from traitlets>=4.2->ipython>=5.3.0->pyvis) (0.2.0)\n"
     ]
    }
   ],
   "source": [
    "! pip install pyvis"
   ]
  },
  {
   "source": [
    "# Load the Libraries"
   ],
   "cell_type": "markdown",
   "metadata": {}
  },
  {
   "cell_type": "code",
   "execution_count": 108,
   "metadata": {},
   "outputs": [],
   "source": [
    "\n",
    "\n",
    "import pandas as pd \n",
    "import numpy as np \n",
    "from datetime import datetime\n",
    "import sys\n",
    "import ast\n",
    "\n",
    "import plotly.express as px\n",
    "\n",
    "#import nltk\n",
    "#from nltk.corpus import stopwords\n",
    "#import spacy\n",
    "\n",
    "import matplotlib.pyplot as plt\n",
    "import seaborn as sns\n",
    "\n",
    "\n",
    "\n",
    "import networkx as nx\n",
    "from networkx.algorithms.components.connected import connected_components\n",
    "\n",
    "import json\n",
    "import dask.bag as db\n",
    "\n",
    "import sys\n",
    "import os\n",
    "\n",
    "sys.path.append(\"..\")\n",
    "\n",
    "from pathlib import Path\n",
    "\n",
    "import json\n",
    "from arxiv_analysis import updateData\n",
    "\n",
    "from itertools import combinations\n",
    "from collections import Counter\n",
    "from itertools import chain\n",
    "import random\n",
    "\n",
    "from tqdm.notebook import tqdm, trange\n",
    "import time    # to be used in loop iterations\n",
    "\n",
    "import multiprocessing\n",
    "import smart_open\n",
    "\n",
    "from gensim.models.word2vec import Word2Vec\n",
    "\n",
    "from pyvis.network import Network\n",
    "\n",
    "from IPython.core.display import display, HTML\n",
    "\n",
    "from sklearn.metrics import pairwise_distances\n",
    "from sklearn.metrics.pairwise import cosine_similarity,cosine_distances\n",
    "from sklearn.cluster import KMeans\n",
    "\n",
    "import matplotlib.pyplot as plt"
   ]
  },
  {
   "source": [
    "# Extract the Data from Kaggle "
   ],
   "cell_type": "markdown",
   "metadata": {}
  },
  {
   "cell_type": "code",
   "execution_count": 9,
   "metadata": {},
   "outputs": [],
   "source": [
    "KAGGLE_DATASET_NAME=\"Cornell-University/arxiv\"\n",
    "KAGGLE_CONFIG_PATH=\"../arxiv_analysis/config/kaggle.json\"\n",
    "\n",
    "updateData.downloadKaggleData(KAGGLE_DATASET_NAME,path_to_kaggle_config=KAGGLE_CONFIG_PATH)\n",
    "\n",
    "\n",
    "\n",
    "\n"
   ]
  },
  {
   "cell_type": "code",
   "execution_count": 45,
   "metadata": {},
   "outputs": [],
   "source": [
    "# Extract Only the AI , ML PAPERS\n",
    "def extractArxivData(categories=['stat.ML','cs.LG','cs.AI'],raw_data_path=\"../data/raw/\",save_extracted_filename=\"../data/processed/AI_ML.json\"):\n",
    "    \"\"\" This function extracts data for the given set of categories and save the data into the save_extracted_filename path \"\"\"\n",
    "    records=db.read_text(raw_data_path+\"/*.json\").map(lambda x:json.loads(x))\n",
    "    docs = (records.filter(lambda x:any(ele in x['categories'] for ele in categories)==True))\n",
    "    get_metadata = lambda x: {'id': x['id'],\n",
    "                  'title': x['title'],\n",
    "                  'category':x['categories'],\n",
    "                  'abstract':x['abstract'],\n",
    "                 'version':x['versions'][-1]['created'],\n",
    "                         'doi':x[\"doi\"],\n",
    "                         'authors_parsed':x['authors_parsed']}\n",
    "                        \n",
    "    data=docs.map(get_metadata).to_dataframe().compute()\n",
    "\n",
    "    ## Creating authors fields by joining first and last nmes in authors_parsed columns\n",
    "    data['authors']=data['authors_parsed'].apply(lambda authors:[(\" \".join(author)).strip() for author in authors])\n",
    "\n",
    "    print(\"Number of Records Extracted for Given Set of Categories \",data.shape[0])\n",
    "    Path(os.path.dirname(save_extracted_filename)).mkdir(parents=True, exist_ok=True)\n",
    "    data.to_json(save_extracted_filename,orient=\"records\")\n"
   ]
  },
  {
   "cell_type": "code",
   "execution_count": 46,
   "metadata": {},
   "outputs": [
    {
     "output_type": "stream",
     "name": "stdout",
     "text": [
      "Number of Records Extracted for Given Set of Categories  111965\n"
     ]
    }
   ],
   "source": [
    "extractArxivData()"
   ]
  },
  {
   "source": [],
   "cell_type": "markdown",
   "metadata": {}
  },
  {
   "cell_type": "code",
   "execution_count": 16,
   "metadata": {},
   "outputs": [],
   "source": [
    "# Delte the raw data\n",
    "#updateData.deleteRawData()"
   ]
  },
  {
   "source": [
    "# Creating a Co-Author Network\n",
    "\n",
    "For the set of papers extracted, for every pair of authors an edge is to be created. The Edge weight will be the number of papers the two authors have collabrated on. "
   ],
   "cell_type": "markdown",
   "metadata": {}
  },
  {
   "cell_type": "code",
   "execution_count": 3,
   "metadata": {},
   "outputs": [],
   "source": [
    "INPUT_PATH=\"../data/processed/AI_ML.json\"\n",
    "OUTPUT_PATH=\"../data/output/\"\n",
    "MODEL_PATH=\"../model/\"\n",
    "\n",
    "## Create output directory if does not exist\n",
    "Path(os.path.dirname(OUTPUT_PATH)).mkdir(parents=True, exist_ok=True)\n",
    "Path(os.path.dirname(MODEL_PATH)).mkdir(parents=True, exist_ok=True)\n"
   ]
  },
  {
   "source": [
    "## Load the Data\n"
   ],
   "cell_type": "markdown",
   "metadata": {}
  },
  {
   "cell_type": "code",
   "execution_count": 4,
   "metadata": {},
   "outputs": [],
   "source": [
    "data=pd.read_json(INPUT_PATH)"
   ]
  },
  {
   "cell_type": "code",
   "execution_count": 5,
   "metadata": {},
   "outputs": [
    {
     "output_type": "execute_result",
     "data": {
      "text/plain": [
       "(111965, 8)"
      ]
     },
     "metadata": {},
     "execution_count": 5
    }
   ],
   "source": [
    "data.shape"
   ]
  },
  {
   "cell_type": "code",
   "execution_count": 6,
   "metadata": {},
   "outputs": [
    {
     "output_type": "execute_result",
     "data": {
      "text/plain": [
       "          id                                              title  \\\n",
       "0  0704.0047  Intelligent location of simultaneously active ...   \n",
       "1  0704.0050  Intelligent location of simultaneously active ...   \n",
       "2  0704.0304                  The World as Evolving Information   \n",
       "3  0704.0671              Learning from compressed observations   \n",
       "4  0704.0954  Sensor Networks with Random Links: Topology De...   \n",
       "\n",
       "                       category  \\\n",
       "0                   cs.NE cs.AI   \n",
       "1                   cs.NE cs.AI   \n",
       "2  cs.IT cs.AI math.IT q-bio.PE   \n",
       "3           cs.IT cs.LG math.IT   \n",
       "4           cs.IT cs.LG math.IT   \n",
       "\n",
       "                                            abstract  \\\n",
       "0    The intelligent acoustic emission locator is...   \n",
       "1    Part I describes an intelligent acoustic emi...   \n",
       "2    This paper discusses the benefits of describ...   \n",
       "3    The problem of statistical learning is to co...   \n",
       "4    In a sensor network, in practice, the commun...   \n",
       "\n",
       "                         version                           doi  \\\n",
       "0   Sun, 1 Apr 2007 13:06:50 GMT                          None   \n",
       "1   Sun, 1 Apr 2007 18:53:13 GMT                          None   \n",
       "2  Wed, 13 Oct 2010 19:49:16 GMT  10.1007/978-3-642-18003-3_10   \n",
       "3   Thu, 5 Apr 2007 02:57:15 GMT      10.1109/ITW.2007.4313111   \n",
       "4   Fri, 6 Apr 2007 21:58:52 GMT       10.1109/TSP.2008.920143   \n",
       "\n",
       "                              authors_parsed                          authors  \n",
       "0            [[Kosel, T., ], [Grabec, I., ]]            [Kosel T., Grabec I.]  \n",
       "1            [[Kosel, T., ], [Grabec, I., ]]            [Kosel T., Grabec I.]  \n",
       "2                   [[Gershenson, Carlos, ]]              [Gershenson Carlos]  \n",
       "3                      [[Raginsky, Maxim, ]]                 [Raginsky Maxim]  \n",
       "4  [[Kar, Soummya, ], [Moura, Jose M. F., ]]  [Kar Soummya, Moura Jose M. F.]  "
      ],
      "text/html": "<div>\n<style scoped>\n    .dataframe tbody tr th:only-of-type {\n        vertical-align: middle;\n    }\n\n    .dataframe tbody tr th {\n        vertical-align: top;\n    }\n\n    .dataframe thead th {\n        text-align: right;\n    }\n</style>\n<table border=\"1\" class=\"dataframe\">\n  <thead>\n    <tr style=\"text-align: right;\">\n      <th></th>\n      <th>id</th>\n      <th>title</th>\n      <th>category</th>\n      <th>abstract</th>\n      <th>version</th>\n      <th>doi</th>\n      <th>authors_parsed</th>\n      <th>authors</th>\n    </tr>\n  </thead>\n  <tbody>\n    <tr>\n      <th>0</th>\n      <td>0704.0047</td>\n      <td>Intelligent location of simultaneously active ...</td>\n      <td>cs.NE cs.AI</td>\n      <td>The intelligent acoustic emission locator is...</td>\n      <td>Sun, 1 Apr 2007 13:06:50 GMT</td>\n      <td>None</td>\n      <td>[[Kosel, T., ], [Grabec, I., ]]</td>\n      <td>[Kosel T., Grabec I.]</td>\n    </tr>\n    <tr>\n      <th>1</th>\n      <td>0704.0050</td>\n      <td>Intelligent location of simultaneously active ...</td>\n      <td>cs.NE cs.AI</td>\n      <td>Part I describes an intelligent acoustic emi...</td>\n      <td>Sun, 1 Apr 2007 18:53:13 GMT</td>\n      <td>None</td>\n      <td>[[Kosel, T., ], [Grabec, I., ]]</td>\n      <td>[Kosel T., Grabec I.]</td>\n    </tr>\n    <tr>\n      <th>2</th>\n      <td>0704.0304</td>\n      <td>The World as Evolving Information</td>\n      <td>cs.IT cs.AI math.IT q-bio.PE</td>\n      <td>This paper discusses the benefits of describ...</td>\n      <td>Wed, 13 Oct 2010 19:49:16 GMT</td>\n      <td>10.1007/978-3-642-18003-3_10</td>\n      <td>[[Gershenson, Carlos, ]]</td>\n      <td>[Gershenson Carlos]</td>\n    </tr>\n    <tr>\n      <th>3</th>\n      <td>0704.0671</td>\n      <td>Learning from compressed observations</td>\n      <td>cs.IT cs.LG math.IT</td>\n      <td>The problem of statistical learning is to co...</td>\n      <td>Thu, 5 Apr 2007 02:57:15 GMT</td>\n      <td>10.1109/ITW.2007.4313111</td>\n      <td>[[Raginsky, Maxim, ]]</td>\n      <td>[Raginsky Maxim]</td>\n    </tr>\n    <tr>\n      <th>4</th>\n      <td>0704.0954</td>\n      <td>Sensor Networks with Random Links: Topology De...</td>\n      <td>cs.IT cs.LG math.IT</td>\n      <td>In a sensor network, in practice, the commun...</td>\n      <td>Fri, 6 Apr 2007 21:58:52 GMT</td>\n      <td>10.1109/TSP.2008.920143</td>\n      <td>[[Kar, Soummya, ], [Moura, Jose M. F., ]]</td>\n      <td>[Kar Soummya, Moura Jose M. F.]</td>\n    </tr>\n  </tbody>\n</table>\n</div>"
     },
     "metadata": {},
     "execution_count": 6
    }
   ],
   "source": [
    "data.head()"
   ]
  },
  {
   "cell_type": "code",
   "execution_count": 7,
   "metadata": {},
   "outputs": [
    {
     "output_type": "execute_result",
     "data": {
      "text/plain": [
       "          id                                              title  \\\n",
       "0  0704.0047  Intelligent location of simultaneously active ...   \n",
       "1  0704.0050  Intelligent location of simultaneously active ...   \n",
       "2  0704.0304                  The World as Evolving Information   \n",
       "3  0704.0671              Learning from compressed observations   \n",
       "4  0704.0954  Sensor Networks with Random Links: Topology De...   \n",
       "\n",
       "                       category  \\\n",
       "0                   cs.NE cs.AI   \n",
       "1                   cs.NE cs.AI   \n",
       "2  cs.IT cs.AI math.IT q-bio.PE   \n",
       "3           cs.IT cs.LG math.IT   \n",
       "4           cs.IT cs.LG math.IT   \n",
       "\n",
       "                                            abstract  \\\n",
       "0    The intelligent acoustic emission locator is...   \n",
       "1    Part I describes an intelligent acoustic emi...   \n",
       "2    This paper discusses the benefits of describ...   \n",
       "3    The problem of statistical learning is to co...   \n",
       "4    In a sensor network, in practice, the commun...   \n",
       "\n",
       "                         version                           doi  \\\n",
       "0   Sun, 1 Apr 2007 13:06:50 GMT                          None   \n",
       "1   Sun, 1 Apr 2007 18:53:13 GMT                          None   \n",
       "2  Wed, 13 Oct 2010 19:49:16 GMT  10.1007/978-3-642-18003-3_10   \n",
       "3   Thu, 5 Apr 2007 02:57:15 GMT      10.1109/ITW.2007.4313111   \n",
       "4   Fri, 6 Apr 2007 21:58:52 GMT       10.1109/TSP.2008.920143   \n",
       "\n",
       "                              authors_parsed                          authors  \\\n",
       "0            [[Kosel, T., ], [Grabec, I., ]]            [Kosel T., Grabec I.]   \n",
       "1            [[Kosel, T., ], [Grabec, I., ]]            [Kosel T., Grabec I.]   \n",
       "2                   [[Gershenson, Carlos, ]]              [Gershenson Carlos]   \n",
       "3                      [[Raginsky, Maxim, ]]                 [Raginsky Maxim]   \n",
       "4  [[Kar, Soummya, ], [Moura, Jose M. F., ]]  [Kar Soummya, Moura Jose M. F.]   \n",
       "\n",
       "                        author_pairs  \n",
       "0            [(Kosel T., Grabec I.)]  \n",
       "1            [(Kosel T., Grabec I.)]  \n",
       "2                                 []  \n",
       "3                                 []  \n",
       "4  [(Kar Soummya, Moura Jose M. F.)]  "
      ],
      "text/html": "<div>\n<style scoped>\n    .dataframe tbody tr th:only-of-type {\n        vertical-align: middle;\n    }\n\n    .dataframe tbody tr th {\n        vertical-align: top;\n    }\n\n    .dataframe thead th {\n        text-align: right;\n    }\n</style>\n<table border=\"1\" class=\"dataframe\">\n  <thead>\n    <tr style=\"text-align: right;\">\n      <th></th>\n      <th>id</th>\n      <th>title</th>\n      <th>category</th>\n      <th>abstract</th>\n      <th>version</th>\n      <th>doi</th>\n      <th>authors_parsed</th>\n      <th>authors</th>\n      <th>author_pairs</th>\n    </tr>\n  </thead>\n  <tbody>\n    <tr>\n      <th>0</th>\n      <td>0704.0047</td>\n      <td>Intelligent location of simultaneously active ...</td>\n      <td>cs.NE cs.AI</td>\n      <td>The intelligent acoustic emission locator is...</td>\n      <td>Sun, 1 Apr 2007 13:06:50 GMT</td>\n      <td>None</td>\n      <td>[[Kosel, T., ], [Grabec, I., ]]</td>\n      <td>[Kosel T., Grabec I.]</td>\n      <td>[(Kosel T., Grabec I.)]</td>\n    </tr>\n    <tr>\n      <th>1</th>\n      <td>0704.0050</td>\n      <td>Intelligent location of simultaneously active ...</td>\n      <td>cs.NE cs.AI</td>\n      <td>Part I describes an intelligent acoustic emi...</td>\n      <td>Sun, 1 Apr 2007 18:53:13 GMT</td>\n      <td>None</td>\n      <td>[[Kosel, T., ], [Grabec, I., ]]</td>\n      <td>[Kosel T., Grabec I.]</td>\n      <td>[(Kosel T., Grabec I.)]</td>\n    </tr>\n    <tr>\n      <th>2</th>\n      <td>0704.0304</td>\n      <td>The World as Evolving Information</td>\n      <td>cs.IT cs.AI math.IT q-bio.PE</td>\n      <td>This paper discusses the benefits of describ...</td>\n      <td>Wed, 13 Oct 2010 19:49:16 GMT</td>\n      <td>10.1007/978-3-642-18003-3_10</td>\n      <td>[[Gershenson, Carlos, ]]</td>\n      <td>[Gershenson Carlos]</td>\n      <td>[]</td>\n    </tr>\n    <tr>\n      <th>3</th>\n      <td>0704.0671</td>\n      <td>Learning from compressed observations</td>\n      <td>cs.IT cs.LG math.IT</td>\n      <td>The problem of statistical learning is to co...</td>\n      <td>Thu, 5 Apr 2007 02:57:15 GMT</td>\n      <td>10.1109/ITW.2007.4313111</td>\n      <td>[[Raginsky, Maxim, ]]</td>\n      <td>[Raginsky Maxim]</td>\n      <td>[]</td>\n    </tr>\n    <tr>\n      <th>4</th>\n      <td>0704.0954</td>\n      <td>Sensor Networks with Random Links: Topology De...</td>\n      <td>cs.IT cs.LG math.IT</td>\n      <td>In a sensor network, in practice, the commun...</td>\n      <td>Fri, 6 Apr 2007 21:58:52 GMT</td>\n      <td>10.1109/TSP.2008.920143</td>\n      <td>[[Kar, Soummya, ], [Moura, Jose M. F., ]]</td>\n      <td>[Kar Soummya, Moura Jose M. F.]</td>\n      <td>[(Kar Soummya, Moura Jose M. F.)]</td>\n    </tr>\n  </tbody>\n</table>\n</div>"
     },
     "metadata": {},
     "execution_count": 7
    }
   ],
   "source": [
    "data['author_pairs']=data['authors'].apply(lambda x:list(combinations(x, 2)))\n",
    "data.head()"
   ]
  },
  {
   "cell_type": "code",
   "execution_count": 8,
   "metadata": {},
   "outputs": [
    {
     "output_type": "execute_result",
     "data": {
      "text/plain": [
       "[('Kosel T.', 'Grabec I.', 2),\n",
       " ('Kar Soummya', 'Moura Jose M. F.', 2),\n",
       " ('Abubakr Mohd', 'Vinay R. M.', 1),\n",
       " ('Gyorgy Andras', 'Linder Tamas', 1),\n",
       " ('Gyorgy Andras', 'Lugosi Gabor', 1),\n",
       " ('Gyorgy Andras', 'Ottucsak Gyorgy', 1),\n",
       " ('Linder Tamas', 'Lugosi Gabor', 1),\n",
       " ('Linder Tamas', 'Ottucsak Gyorgy', 1),\n",
       " ('Lugosi Gabor', 'Ottucsak Gyorgy', 1),\n",
       " ('Wasserman Larry', 'Roeder Kathryn', 1)]"
      ]
     },
     "metadata": {},
     "execution_count": 8
    }
   ],
   "source": [
    "authors_pairs=data['author_pairs'].tolist()\n",
    "authors_edge_list=[item for sublist in authors_pairs for item in sublist]\n",
    "authors_weighted_edge_list=list(Counter(authors_edge_list).items())\n",
    "authors_weighted_edge_list=[(row[0][0],row[0][1],row[1]) for idx,row in enumerate(authors_weighted_edge_list)]\n",
    "authors_weighted_edge_list[0:10]"
   ]
  },
  {
   "cell_type": "code",
   "execution_count": 9,
   "metadata": {},
   "outputs": [],
   "source": [
    "G=nx.Graph()\n",
    "G.add_weighted_edges_from(authors_weighted_edge_list)"
   ]
  },
  {
   "cell_type": "code",
   "execution_count": 10,
   "metadata": {},
   "outputs": [
    {
     "output_type": "stream",
     "name": "stdout",
     "text": [
      "Number of Nodes in Author Graph  155510\nNumber of Edges in AUthor Graph  832100\n"
     ]
    }
   ],
   "source": [
    "print(\"Number of Nodes in Author Graph \",len(G.nodes()))\n",
    "print(\"Number of Edges in AUthor Graph \",len(G.edges()))"
   ]
  },
  {
   "cell_type": "code",
   "execution_count": 11,
   "metadata": {},
   "outputs": [
    {
     "output_type": "execute_result",
     "data": {
      "text/plain": [
       "'Getoor Lise'"
      ]
     },
     "metadata": {},
     "execution_count": 11
    }
   ],
   "source": [
    "random.choice(list(G.neighbors(\"Plangprasopchok Anon\")))"
   ]
  },
  {
   "source": [
    "## Implementing Deep Walk\n",
    "\n",
    "**Deep walk uses the concept of Random Walks to assign an embedding to each node in the network.** \n",
    "\n",
    "1. In Random Walk, given a node we pick one of its neighbours at random and move to this node and from this node again choose another node among its neighbours at random. This continues for a fixed number of steps. \n",
    "\n",
    "2. The number of steps is equivalent of the size of sliding window we choose while building a word2vec model.\n",
    "\n",
    "3. Once we have random walks generated for every node in the network, in DeepWalk the next step is to predict probability of visiting node \"v\" on a random walk starting from node \"u\". \n",
    " \n",
    "4. This is very similar to the Skip-Gram model used in Word2Vec Model in NLP, wherein we try to predict the neighbouring words given a particular target word.\n",
    "\n",
    "\n",
    "### Define Function for Random Walk\n"
   ],
   "cell_type": "markdown",
   "metadata": {}
  },
  {
   "cell_type": "code",
   "execution_count": 12,
   "metadata": {},
   "outputs": [],
   "source": [
    "def getRandomWalk(graph,node,length_of_random_walk):\n",
    "    \"\"\" This function takes NetworkX Graph and a Node and generate random walk for a given length \n",
    "    \n",
    "    Returns the random walk (list of nodes traversed)\n",
    "\n",
    "    Note: The same node may occcur more than once in a Random Walk.\n",
    "    \"\"\"\n",
    "    start_node=node\n",
    "    current_node=start_node\n",
    "    random_walk=[node]\n",
    "    for i in range(0,length_of_random_walk):\n",
    "        ## Choose a random neighbour of the current node\n",
    "        \n",
    "        current_node_neighbours=list(graph.neighbors(current_node))\n",
    "        chosen_node=random.choice(current_node_neighbours)\n",
    "        current_node=chosen_node\n",
    "        random_walk.append(current_node)\n",
    "    return random_walk\n",
    "\n",
    "\n"
   ]
  },
  {
   "cell_type": "code",
   "execution_count": 13,
   "metadata": {},
   "outputs": [
    {
     "output_type": "execute_result",
     "data": {
      "text/plain": [
       "['Plangprasopchok Anon',\n",
       " 'Wong Chio',\n",
       " 'Lerman Kristina',\n",
       " 'Morstatter Fred',\n",
       " 'Ren Xiang',\n",
       " 'Yan Hao',\n",
       " 'Ren Xiang',\n",
       " 'Sharma Navodita',\n",
       " 'Ren Xiang',\n",
       " 'Tan Liang',\n",
       " 'Firooz Hamed']"
      ]
     },
     "metadata": {},
     "execution_count": 13
    }
   ],
   "source": [
    "getRandomWalk(G,\"Plangprasopchok Anon\",10) "
   ]
  },
  {
   "cell_type": "code",
   "execution_count": 58,
   "metadata": {
    "tags": []
   },
   "outputs": [
    {
     "output_type": "display_data",
     "data": {
      "text/plain": "Iterating Nodes:   0%|          | 0/155510 [00:00<?, ?it/s]",
      "application/vnd.jupyter.widget-view+json": {
       "version_major": 2,
       "version_minor": 0,
       "model_id": "1b9e141d00124202b666202cd6ef8fc6"
      }
     },
     "metadata": {}
    }
   ],
   "source": [
    "### For every Node in the Graph, get randomwalks . For eahc node, let us get random walks say around 10 times each of path length 10\n",
    "num_sampling=10\n",
    "random_walks=[]\n",
    "length_of_random_walk=10\n",
    "for node in tqdm(G.nodes(),desc=\"Iterating Nodes\"):\n",
    "    \n",
    "    for i in range(0,num_sampling):\n",
    "        random_walks.append(getRandomWalk(G,node,length_of_random_walk))\n",
    "\n",
    "\n",
    "        "
   ]
  },
  {
   "source": [
    "The data now is similar to list of words in a sentence and we can use gensim to create Node Embedding Model - here each author is a Node and Node is similar to word in a sentence"
   ],
   "cell_type": "markdown",
   "metadata": {}
  },
  {
   "cell_type": "code",
   "execution_count": 17,
   "metadata": {},
   "outputs": [
    {
     "output_type": "stream",
     "text": [
      "\u001b[0;31mInit signature:\u001b[0m\n",
      "\u001b[0mWord2Vec\u001b[0m\u001b[0;34m(\u001b[0m\u001b[0;34m\u001b[0m\n",
      "\u001b[0;34m\u001b[0m    \u001b[0msentences\u001b[0m\u001b[0;34m=\u001b[0m\u001b[0;32mNone\u001b[0m\u001b[0;34m,\u001b[0m\u001b[0;34m\u001b[0m\n",
      "\u001b[0;34m\u001b[0m    \u001b[0mcorpus_file\u001b[0m\u001b[0;34m=\u001b[0m\u001b[0;32mNone\u001b[0m\u001b[0;34m,\u001b[0m\u001b[0;34m\u001b[0m\n",
      "\u001b[0;34m\u001b[0m    \u001b[0mvector_size\u001b[0m\u001b[0;34m=\u001b[0m\u001b[0;36m100\u001b[0m\u001b[0;34m,\u001b[0m\u001b[0;34m\u001b[0m\n",
      "\u001b[0;34m\u001b[0m    \u001b[0malpha\u001b[0m\u001b[0;34m=\u001b[0m\u001b[0;36m0.025\u001b[0m\u001b[0;34m,\u001b[0m\u001b[0;34m\u001b[0m\n",
      "\u001b[0;34m\u001b[0m    \u001b[0mwindow\u001b[0m\u001b[0;34m=\u001b[0m\u001b[0;36m5\u001b[0m\u001b[0;34m,\u001b[0m\u001b[0;34m\u001b[0m\n",
      "\u001b[0;34m\u001b[0m    \u001b[0mmin_count\u001b[0m\u001b[0;34m=\u001b[0m\u001b[0;36m5\u001b[0m\u001b[0;34m,\u001b[0m\u001b[0;34m\u001b[0m\n",
      "\u001b[0;34m\u001b[0m    \u001b[0mmax_vocab_size\u001b[0m\u001b[0;34m=\u001b[0m\u001b[0;32mNone\u001b[0m\u001b[0;34m,\u001b[0m\u001b[0;34m\u001b[0m\n",
      "\u001b[0;34m\u001b[0m    \u001b[0msample\u001b[0m\u001b[0;34m=\u001b[0m\u001b[0;36m0.001\u001b[0m\u001b[0;34m,\u001b[0m\u001b[0;34m\u001b[0m\n",
      "\u001b[0;34m\u001b[0m    \u001b[0mseed\u001b[0m\u001b[0;34m=\u001b[0m\u001b[0;36m1\u001b[0m\u001b[0;34m,\u001b[0m\u001b[0;34m\u001b[0m\n",
      "\u001b[0;34m\u001b[0m    \u001b[0mworkers\u001b[0m\u001b[0;34m=\u001b[0m\u001b[0;36m3\u001b[0m\u001b[0;34m,\u001b[0m\u001b[0;34m\u001b[0m\n",
      "\u001b[0;34m\u001b[0m    \u001b[0mmin_alpha\u001b[0m\u001b[0;34m=\u001b[0m\u001b[0;36m0.0001\u001b[0m\u001b[0;34m,\u001b[0m\u001b[0;34m\u001b[0m\n",
      "\u001b[0;34m\u001b[0m    \u001b[0msg\u001b[0m\u001b[0;34m=\u001b[0m\u001b[0;36m0\u001b[0m\u001b[0;34m,\u001b[0m\u001b[0;34m\u001b[0m\n",
      "\u001b[0;34m\u001b[0m    \u001b[0mhs\u001b[0m\u001b[0;34m=\u001b[0m\u001b[0;36m0\u001b[0m\u001b[0;34m,\u001b[0m\u001b[0;34m\u001b[0m\n",
      "\u001b[0;34m\u001b[0m    \u001b[0mnegative\u001b[0m\u001b[0;34m=\u001b[0m\u001b[0;36m5\u001b[0m\u001b[0;34m,\u001b[0m\u001b[0;34m\u001b[0m\n",
      "\u001b[0;34m\u001b[0m    \u001b[0mns_exponent\u001b[0m\u001b[0;34m=\u001b[0m\u001b[0;36m0.75\u001b[0m\u001b[0;34m,\u001b[0m\u001b[0;34m\u001b[0m\n",
      "\u001b[0;34m\u001b[0m    \u001b[0mcbow_mean\u001b[0m\u001b[0;34m=\u001b[0m\u001b[0;36m1\u001b[0m\u001b[0;34m,\u001b[0m\u001b[0;34m\u001b[0m\n",
      "\u001b[0;34m\u001b[0m    \u001b[0mhashfxn\u001b[0m\u001b[0;34m=\u001b[0m\u001b[0;34m<\u001b[0m\u001b[0mbuilt\u001b[0m\u001b[0;34m-\u001b[0m\u001b[0;32min\u001b[0m \u001b[0mfunction\u001b[0m \u001b[0mhash\u001b[0m\u001b[0;34m>\u001b[0m\u001b[0;34m,\u001b[0m\u001b[0;34m\u001b[0m\n",
      "\u001b[0;34m\u001b[0m    \u001b[0mepochs\u001b[0m\u001b[0;34m=\u001b[0m\u001b[0;36m5\u001b[0m\u001b[0;34m,\u001b[0m\u001b[0;34m\u001b[0m\n",
      "\u001b[0;34m\u001b[0m    \u001b[0mnull_word\u001b[0m\u001b[0;34m=\u001b[0m\u001b[0;36m0\u001b[0m\u001b[0;34m,\u001b[0m\u001b[0;34m\u001b[0m\n",
      "\u001b[0;34m\u001b[0m    \u001b[0mtrim_rule\u001b[0m\u001b[0;34m=\u001b[0m\u001b[0;32mNone\u001b[0m\u001b[0;34m,\u001b[0m\u001b[0;34m\u001b[0m\n",
      "\u001b[0;34m\u001b[0m    \u001b[0msorted_vocab\u001b[0m\u001b[0;34m=\u001b[0m\u001b[0;36m1\u001b[0m\u001b[0;34m,\u001b[0m\u001b[0;34m\u001b[0m\n",
      "\u001b[0;34m\u001b[0m    \u001b[0mbatch_words\u001b[0m\u001b[0;34m=\u001b[0m\u001b[0;36m10000\u001b[0m\u001b[0;34m,\u001b[0m\u001b[0;34m\u001b[0m\n",
      "\u001b[0;34m\u001b[0m    \u001b[0mcompute_loss\u001b[0m\u001b[0;34m=\u001b[0m\u001b[0;32mFalse\u001b[0m\u001b[0;34m,\u001b[0m\u001b[0;34m\u001b[0m\n",
      "\u001b[0;34m\u001b[0m    \u001b[0mcallbacks\u001b[0m\u001b[0;34m=\u001b[0m\u001b[0;34m(\u001b[0m\u001b[0;34m)\u001b[0m\u001b[0;34m,\u001b[0m\u001b[0;34m\u001b[0m\n",
      "\u001b[0;34m\u001b[0m    \u001b[0mcomment\u001b[0m\u001b[0;34m=\u001b[0m\u001b[0;32mNone\u001b[0m\u001b[0;34m,\u001b[0m\u001b[0;34m\u001b[0m\n",
      "\u001b[0;34m\u001b[0m    \u001b[0mmax_final_vocab\u001b[0m\u001b[0;34m=\u001b[0m\u001b[0;32mNone\u001b[0m\u001b[0;34m,\u001b[0m\u001b[0;34m\u001b[0m\n",
      "\u001b[0;34m\u001b[0m\u001b[0;34m)\u001b[0m\u001b[0;34m\u001b[0m\u001b[0;34m\u001b[0m\u001b[0m\n",
      "\u001b[0;31mDocstring:\u001b[0m     \n",
      "Serialize/deserialize objects from disk, by equipping them with the `save()` / `load()` methods.\n",
      "\n",
      "Warnings\n",
      "--------\n",
      "This uses pickle internally (among other techniques), so objects must not contain unpicklable attributes\n",
      "such as lambda functions etc.\n",
      "\u001b[0;31mInit docstring:\u001b[0m\n",
      "Train, use and evaluate neural networks described in https://code.google.com/p/word2vec/.\n",
      "\n",
      "Once you're finished training a model (=no more updates, only querying)\n",
      "store and use only the :class:`~gensim.models.keyedvectors.KeyedVectors` instance in ``self.wv``\n",
      "to reduce memory.\n",
      "\n",
      "The full model can be stored/loaded via its :meth:`~gensim.models.word2vec.Word2Vec.save` and\n",
      ":meth:`~gensim.models.word2vec.Word2Vec.load` methods.\n",
      "\n",
      "The trained word vectors can also be stored/loaded from a format compatible with the\n",
      "original word2vec implementation via `self.wv.save_word2vec_format`\n",
      "and :meth:`gensim.models.keyedvectors.KeyedVectors.load_word2vec_format`.\n",
      "\n",
      "Parameters\n",
      "----------\n",
      "sentences : iterable of iterables, optional\n",
      "    The `sentences` iterable can be simply a list of lists of tokens, but for larger corpora,\n",
      "    consider an iterable that streams the sentences directly from disk/network.\n",
      "    See :class:`~gensim.models.word2vec.BrownCorpus`, :class:`~gensim.models.word2vec.Text8Corpus`\n",
      "    or :class:`~gensim.models.word2vec.LineSentence` in :mod:`~gensim.models.word2vec` module for such examples.\n",
      "    See also the `tutorial on data streaming in Python\n",
      "    <https://rare-technologies.com/data-streaming-in-python-generators-iterators-iterables/>`_.\n",
      "    If you don't supply `sentences`, the model is left uninitialized -- use if you plan to initialize it\n",
      "    in some other way.\n",
      "corpus_file : str, optional\n",
      "    Path to a corpus file in :class:`~gensim.models.word2vec.LineSentence` format.\n",
      "    You may use this argument instead of `sentences` to get performance boost. Only one of `sentences` or\n",
      "    `corpus_file` arguments need to be passed (or none of them, in that case, the model is left uninitialized).\n",
      "vector_size : int, optional\n",
      "    Dimensionality of the word vectors.\n",
      "window : int, optional\n",
      "    Maximum distance between the current and predicted word within a sentence.\n",
      "min_count : int, optional\n",
      "    Ignores all words with total frequency lower than this.\n",
      "workers : int, optional\n",
      "    Use these many worker threads to train the model (=faster training with multicore machines).\n",
      "sg : {0, 1}, optional\n",
      "    Training algorithm: 1 for skip-gram; otherwise CBOW.\n",
      "hs : {0, 1}, optional\n",
      "    If 1, hierarchical softmax will be used for model training.\n",
      "    If 0, and `negative` is non-zero, negative sampling will be used.\n",
      "negative : int, optional\n",
      "    If > 0, negative sampling will be used, the int for negative specifies how many \"noise words\"\n",
      "    should be drawn (usually between 5-20).\n",
      "    If set to 0, no negative sampling is used.\n",
      "ns_exponent : float, optional\n",
      "    The exponent used to shape the negative sampling distribution. A value of 1.0 samples exactly in proportion\n",
      "    to the frequencies, 0.0 samples all words equally, while a negative value samples low-frequency words more\n",
      "    than high-frequency words. The popular default value of 0.75 was chosen by the original Word2Vec paper.\n",
      "    More recently, in https://arxiv.org/abs/1804.04212, Caselles-Dupré, Lesaint, & Royo-Letelier suggest that\n",
      "    other values may perform better for recommendation applications.\n",
      "cbow_mean : {0, 1}, optional\n",
      "    If 0, use the sum of the context word vectors. If 1, use the mean, only applies when cbow is used.\n",
      "alpha : float, optional\n",
      "    The initial learning rate.\n",
      "min_alpha : float, optional\n",
      "    Learning rate will linearly drop to `min_alpha` as training progresses.\n",
      "seed : int, optional\n",
      "    Seed for the random number generator. Initial vectors for each word are seeded with a hash of\n",
      "    the concatenation of word + `str(seed)`. Note that for a fully deterministically-reproducible run,\n",
      "    you must also limit the model to a single worker thread (`workers=1`), to eliminate ordering jitter\n",
      "    from OS thread scheduling. (In Python 3, reproducibility between interpreter launches also requires\n",
      "    use of the `PYTHONHASHSEED` environment variable to control hash randomization).\n",
      "max_vocab_size : int, optional\n",
      "    Limits the RAM during vocabulary building; if there are more unique\n",
      "    words than this, then prune the infrequent ones. Every 10 million word types need about 1GB of RAM.\n",
      "    Set to `None` for no limit.\n",
      "max_final_vocab : int, optional\n",
      "    Limits the vocab to a target vocab size by automatically picking a matching min_count. If the specified\n",
      "    min_count is more than the calculated min_count, the specified min_count will be used.\n",
      "    Set to `None` if not required.\n",
      "sample : float, optional\n",
      "    The threshold for configuring which higher-frequency words are randomly downsampled,\n",
      "    useful range is (0, 1e-5).\n",
      "hashfxn : function, optional\n",
      "    Hash function to use to randomly initialize weights, for increased training reproducibility.\n",
      "epochs : int, optional\n",
      "    Number of iterations (epochs) over the corpus. (Formerly: `iter`)\n",
      "trim_rule : function, optional\n",
      "    Vocabulary trimming rule, specifies whether certain words should remain in the vocabulary,\n",
      "    be trimmed away, or handled using the default (discard if word count < min_count).\n",
      "    Can be None (min_count will be used, look to :func:`~gensim.utils.keep_vocab_item`),\n",
      "    or a callable that accepts parameters (word, count, min_count) and returns either\n",
      "    :attr:`gensim.utils.RULE_DISCARD`, :attr:`gensim.utils.RULE_KEEP` or :attr:`gensim.utils.RULE_DEFAULT`.\n",
      "    The rule, if given, is only used to prune vocabulary during build_vocab() and is not stored as part of the\n",
      "    model.\n",
      "\n",
      "    The input parameters are of the following types:\n",
      "        * `word` (str) - the word we are examining\n",
      "        * `count` (int) - the word's frequency count in the corpus\n",
      "        * `min_count` (int) - the minimum count threshold.\n",
      "sorted_vocab : {0, 1}, optional\n",
      "    If 1, sort the vocabulary by descending frequency before assigning word indexes.\n",
      "    See :meth:`~gensim.models.keyedvectors.KeyedVectors.sort_by_descending_frequency()`.\n",
      "batch_words : int, optional\n",
      "    Target size (in words) for batches of examples passed to worker threads (and\n",
      "    thus cython routines).(Larger batches will be passed if individual\n",
      "    texts are longer than 10000 words, but the standard cython code truncates to that maximum.)\n",
      "compute_loss: bool, optional\n",
      "    If True, computes and stores loss value which can be retrieved using\n",
      "    :meth:`~gensim.models.word2vec.Word2Vec.get_latest_training_loss`.\n",
      "callbacks : iterable of :class:`~gensim.models.callbacks.CallbackAny2Vec`, optional\n",
      "    Sequence of callbacks to be executed at specific stages during training.\n",
      "\n",
      "Examples\n",
      "--------\n",
      "Initialize and train a :class:`~gensim.models.word2vec.Word2Vec` model\n",
      "\n",
      ".. sourcecode:: pycon\n",
      "\n",
      "    >>> from gensim.models import Word2Vec\n",
      "    >>> sentences = [[\"cat\", \"say\", \"meow\"], [\"dog\", \"say\", \"woof\"]]\n",
      "    >>> model = Word2Vec(sentences, min_count=1)\n",
      "\n",
      "Attributes\n",
      "----------\n",
      "wv : :class:`~gensim.models.keyedvectors.KeyedVectors`\n",
      "    This object essentially contains the mapping between words and embeddings. After training, it can be used\n",
      "    directly to query those embeddings in various ways. See the module level docstring for examples.\n",
      "\u001b[0;31mFile:\u001b[0m           /opt/anaconda3/lib/python3.8/site-packages/gensim/models/word2vec.py\n",
      "\u001b[0;31mType:\u001b[0m           type\n",
      "\u001b[0;31mSubclasses:\u001b[0m     Doc2Vec, FastText\n"
     ],
     "name": "stdout"
    }
   ],
   "source": [
    "?Word2Vec"
   ]
  },
  {
   "cell_type": "code",
   "execution_count": 81,
   "metadata": {},
   "outputs": [],
   "source": [
    "deepwalk_model=Word2Vec(sentences=random_walks,window=5,sg=1,negative=5,vector_size=128,epochs=20,compute_loss=True)\n"
   ]
  },
  {
   "cell_type": "code",
   "execution_count": 82,
   "metadata": {},
   "outputs": [],
   "source": [
    "deepwalk_model.save(os.path.join(MODEL_PATH,\"deepwalk.model\"))"
   ]
  },
  {
   "cell_type": "code",
   "execution_count": 83,
   "metadata": {},
   "outputs": [
    {
     "output_type": "execute_result",
     "data": {
      "text/plain": [
       "64198528.0"
      ]
     },
     "metadata": {},
     "execution_count": 83
    }
   ],
   "source": [
    "deepwalk_model.get_latest_training_loss()"
   ]
  },
  {
   "source": [
    "## Lets Look who are similar authors and validate the results"
   ],
   "cell_type": "markdown",
   "metadata": {}
  },
  {
   "cell_type": "code",
   "execution_count": 14,
   "metadata": {},
   "outputs": [],
   "source": [
    "def getSimilarNodes(model,node):\n",
    "    similarity=model.wv.most_similar(node)\n",
    "    similar_nodes=pd.DataFrame()\n",
    "    similar_nodes['Similar_Node']=[row[0] for i,row in enumerate(similarity)]\n",
    "    similar_nodes['Similarity_Score']=[row[1] for i,row in enumerate(similarity)]\n",
    "    similar_nodes['Source_Node']=node\n",
    "    return similar_nodes\n",
    "\n"
   ]
  },
  {
   "cell_type": "code",
   "execution_count": 15,
   "metadata": {},
   "outputs": [],
   "source": [
    "deepwalk_model=Word2Vec.load(os.path.join(MODEL_PATH,\"deepwalk.model\"))"
   ]
  },
  {
   "cell_type": "code",
   "execution_count": 16,
   "metadata": {},
   "outputs": [
    {
     "output_type": "execute_result",
     "data": {
      "text/plain": [
       "0.52701527"
      ]
     },
     "metadata": {},
     "execution_count": 16
    }
   ],
   "source": [
    "deepwalk_model.wv.similarity(\"Bengio Yoshua\",\"Goodfellow Ian J.\")"
   ]
  },
  {
   "cell_type": "code",
   "execution_count": 17,
   "metadata": {},
   "outputs": [
    {
     "output_type": "execute_result",
     "data": {
      "text/plain": [
       "             Similar_Node  Similarity_Score    Source_Node\n",
       "0          Formisano Elia          0.827041  Bengio Yoshua\n",
       "1       Schönwiesner Marc          0.822223  Bengio Yoshua\n",
       "2      Schoenwiesner Marc          0.817972  Bengio Yoshua\n",
       "3  Thompson Jessica A. F.          0.813860  Bengio Yoshua\n",
       "4            Kendall Jack          0.803196  Bengio Yoshua\n",
       "5         Ernoult Maxence          0.800989  Bengio Yoshua\n",
       "6          Grollier Julie          0.798312  Bengio Yoshua\n",
       "7       Viviano Joseph D.          0.789795  Bengio Yoshua\n",
       "8             Russin Jake          0.788692  Bengio Yoshua\n",
       "9             Song Inchul          0.788434  Bengio Yoshua"
      ],
      "text/html": "<div>\n<style scoped>\n    .dataframe tbody tr th:only-of-type {\n        vertical-align: middle;\n    }\n\n    .dataframe tbody tr th {\n        vertical-align: top;\n    }\n\n    .dataframe thead th {\n        text-align: right;\n    }\n</style>\n<table border=\"1\" class=\"dataframe\">\n  <thead>\n    <tr style=\"text-align: right;\">\n      <th></th>\n      <th>Similar_Node</th>\n      <th>Similarity_Score</th>\n      <th>Source_Node</th>\n    </tr>\n  </thead>\n  <tbody>\n    <tr>\n      <th>0</th>\n      <td>Formisano Elia</td>\n      <td>0.827041</td>\n      <td>Bengio Yoshua</td>\n    </tr>\n    <tr>\n      <th>1</th>\n      <td>Schönwiesner Marc</td>\n      <td>0.822223</td>\n      <td>Bengio Yoshua</td>\n    </tr>\n    <tr>\n      <th>2</th>\n      <td>Schoenwiesner Marc</td>\n      <td>0.817972</td>\n      <td>Bengio Yoshua</td>\n    </tr>\n    <tr>\n      <th>3</th>\n      <td>Thompson Jessica A. F.</td>\n      <td>0.813860</td>\n      <td>Bengio Yoshua</td>\n    </tr>\n    <tr>\n      <th>4</th>\n      <td>Kendall Jack</td>\n      <td>0.803196</td>\n      <td>Bengio Yoshua</td>\n    </tr>\n    <tr>\n      <th>5</th>\n      <td>Ernoult Maxence</td>\n      <td>0.800989</td>\n      <td>Bengio Yoshua</td>\n    </tr>\n    <tr>\n      <th>6</th>\n      <td>Grollier Julie</td>\n      <td>0.798312</td>\n      <td>Bengio Yoshua</td>\n    </tr>\n    <tr>\n      <th>7</th>\n      <td>Viviano Joseph D.</td>\n      <td>0.789795</td>\n      <td>Bengio Yoshua</td>\n    </tr>\n    <tr>\n      <th>8</th>\n      <td>Russin Jake</td>\n      <td>0.788692</td>\n      <td>Bengio Yoshua</td>\n    </tr>\n    <tr>\n      <th>9</th>\n      <td>Song Inchul</td>\n      <td>0.788434</td>\n      <td>Bengio Yoshua</td>\n    </tr>\n  </tbody>\n</table>\n</div>"
     },
     "metadata": {},
     "execution_count": 17
    }
   ],
   "source": [
    "getSimilarNodes(deepwalk_model,\"Bengio Yoshua\")"
   ]
  },
  {
   "cell_type": "code",
   "execution_count": 18,
   "metadata": {},
   "outputs": [
    {
     "output_type": "execute_result",
     "data": {
      "text/plain": [
       "9"
      ]
     },
     "metadata": {},
     "execution_count": 18
    }
   ],
   "source": [
    "G.get_edge_data('Bengio Yoshua','Goodfellow Ian J.')['weight']"
   ]
  },
  {
   "source": [
    "### Let us look at the CoAuthorship Network of the top popular 100 Authors"
   ],
   "cell_type": "markdown",
   "metadata": {}
  },
  {
   "cell_type": "code",
   "execution_count": 19,
   "metadata": {},
   "outputs": [],
   "source": [
    "def flattenList(nested_list):\n",
    "    flat_list = [item for sublist in nested_list for item in sublist]\n",
    "    return flat_list\n"
   ]
  },
  {
   "cell_type": "code",
   "execution_count": 20,
   "metadata": {},
   "outputs": [
    {
     "output_type": "execute_result",
     "data": {
      "text/plain": [
       "                       authors  Number of Papers Published\n",
       "10894            Bengio Yoshua                         334\n",
       "74253            Levine Sergey                         269\n",
       "60653        Jordan Michael I.                         214\n",
       "193              Abbeel Pieter                         197\n",
       "79116                 Liu Yang                         189\n",
       "127392        Sugiyama Masashi                         182\n",
       "1974              Aickelin Uwe                         157\n",
       "117996      Schölkopf Bernhard                         153\n",
       "74460                    Li Bo                         147\n",
       "18193           Carin Lawrence                         147\n",
       "84305              Mannor Shie                         142\n",
       "141865             Welling Max                         140\n",
       "139533                Wang Jun                         139\n",
       "130340             Tao Dacheng                         137\n",
       "114732    Salakhutdinov Ruslan                         136\n",
       "150093            Yu Philip S.                         136\n",
       "155656                 Zhu Jun                         132\n",
       "152949              Zhang Tong                         132\n",
       "140153                Wang Wei                         129\n",
       "55877            Hutter Marcus                         129\n",
       "153383                Zhang Yu                         128\n",
       "23270            Cho Kyunghyun                         127\n",
       "68682           Krause Andreas                         122\n",
       "25961          Courville Aaron                         122\n",
       "145560            Xing Eric P.                         118\n",
       "34701            Ermon Stefano                         116\n",
       "21860                  Chen Xi                         116\n",
       "78888              Liu Tie-Yan                         109\n",
       "21793                 Chen Wei                         108\n",
       "21556              Chen Pin-Yu                         106\n",
       "40523             Gao Jianfeng                         103\n",
       "130874            Teh Yee Whye                         103\n",
       "53850            Hsieh Cho-Jui                         103\n",
       "157855  van der Schaar Mihaela                         102\n",
       "104101           Pineau Joelle                         102\n",
       "138684              Walsh Toby                         102\n",
       "152970               Zhang Wei                          98\n",
       "124653                 Song Le                          98\n",
       "125505           Srebro Nathan                          98\n",
       "78665                Liu Qiang                          95\n",
       "105689            Precup Doina                          95\n",
       "37568             Finn Chelsea                          95\n",
       "83204       Mahoney Michael W.                          95\n",
       "48548        Halpern Joseph Y.                          95\n",
       "42347        Ghahramani Zoubin                          94\n",
       "140336                Wang Xin                          94\n",
       "131039     Tenenbaum Joshua B.                          94\n",
       "42809    Giannakis Georgios B.                          92\n",
       "63171             Kaski Samuel                          91\n",
       "136643        Venkatesh Svetha                          91"
      ],
      "text/html": "<div>\n<style scoped>\n    .dataframe tbody tr th:only-of-type {\n        vertical-align: middle;\n    }\n\n    .dataframe tbody tr th {\n        vertical-align: top;\n    }\n\n    .dataframe thead th {\n        text-align: right;\n    }\n</style>\n<table border=\"1\" class=\"dataframe\">\n  <thead>\n    <tr style=\"text-align: right;\">\n      <th></th>\n      <th>authors</th>\n      <th>Number of Papers Published</th>\n    </tr>\n  </thead>\n  <tbody>\n    <tr>\n      <th>10894</th>\n      <td>Bengio Yoshua</td>\n      <td>334</td>\n    </tr>\n    <tr>\n      <th>74253</th>\n      <td>Levine Sergey</td>\n      <td>269</td>\n    </tr>\n    <tr>\n      <th>60653</th>\n      <td>Jordan Michael I.</td>\n      <td>214</td>\n    </tr>\n    <tr>\n      <th>193</th>\n      <td>Abbeel Pieter</td>\n      <td>197</td>\n    </tr>\n    <tr>\n      <th>79116</th>\n      <td>Liu Yang</td>\n      <td>189</td>\n    </tr>\n    <tr>\n      <th>127392</th>\n      <td>Sugiyama Masashi</td>\n      <td>182</td>\n    </tr>\n    <tr>\n      <th>1974</th>\n      <td>Aickelin Uwe</td>\n      <td>157</td>\n    </tr>\n    <tr>\n      <th>117996</th>\n      <td>Schölkopf Bernhard</td>\n      <td>153</td>\n    </tr>\n    <tr>\n      <th>74460</th>\n      <td>Li Bo</td>\n      <td>147</td>\n    </tr>\n    <tr>\n      <th>18193</th>\n      <td>Carin Lawrence</td>\n      <td>147</td>\n    </tr>\n    <tr>\n      <th>84305</th>\n      <td>Mannor Shie</td>\n      <td>142</td>\n    </tr>\n    <tr>\n      <th>141865</th>\n      <td>Welling Max</td>\n      <td>140</td>\n    </tr>\n    <tr>\n      <th>139533</th>\n      <td>Wang Jun</td>\n      <td>139</td>\n    </tr>\n    <tr>\n      <th>130340</th>\n      <td>Tao Dacheng</td>\n      <td>137</td>\n    </tr>\n    <tr>\n      <th>114732</th>\n      <td>Salakhutdinov Ruslan</td>\n      <td>136</td>\n    </tr>\n    <tr>\n      <th>150093</th>\n      <td>Yu Philip S.</td>\n      <td>136</td>\n    </tr>\n    <tr>\n      <th>155656</th>\n      <td>Zhu Jun</td>\n      <td>132</td>\n    </tr>\n    <tr>\n      <th>152949</th>\n      <td>Zhang Tong</td>\n      <td>132</td>\n    </tr>\n    <tr>\n      <th>140153</th>\n      <td>Wang Wei</td>\n      <td>129</td>\n    </tr>\n    <tr>\n      <th>55877</th>\n      <td>Hutter Marcus</td>\n      <td>129</td>\n    </tr>\n    <tr>\n      <th>153383</th>\n      <td>Zhang Yu</td>\n      <td>128</td>\n    </tr>\n    <tr>\n      <th>23270</th>\n      <td>Cho Kyunghyun</td>\n      <td>127</td>\n    </tr>\n    <tr>\n      <th>68682</th>\n      <td>Krause Andreas</td>\n      <td>122</td>\n    </tr>\n    <tr>\n      <th>25961</th>\n      <td>Courville Aaron</td>\n      <td>122</td>\n    </tr>\n    <tr>\n      <th>145560</th>\n      <td>Xing Eric P.</td>\n      <td>118</td>\n    </tr>\n    <tr>\n      <th>34701</th>\n      <td>Ermon Stefano</td>\n      <td>116</td>\n    </tr>\n    <tr>\n      <th>21860</th>\n      <td>Chen Xi</td>\n      <td>116</td>\n    </tr>\n    <tr>\n      <th>78888</th>\n      <td>Liu Tie-Yan</td>\n      <td>109</td>\n    </tr>\n    <tr>\n      <th>21793</th>\n      <td>Chen Wei</td>\n      <td>108</td>\n    </tr>\n    <tr>\n      <th>21556</th>\n      <td>Chen Pin-Yu</td>\n      <td>106</td>\n    </tr>\n    <tr>\n      <th>40523</th>\n      <td>Gao Jianfeng</td>\n      <td>103</td>\n    </tr>\n    <tr>\n      <th>130874</th>\n      <td>Teh Yee Whye</td>\n      <td>103</td>\n    </tr>\n    <tr>\n      <th>53850</th>\n      <td>Hsieh Cho-Jui</td>\n      <td>103</td>\n    </tr>\n    <tr>\n      <th>157855</th>\n      <td>van der Schaar Mihaela</td>\n      <td>102</td>\n    </tr>\n    <tr>\n      <th>104101</th>\n      <td>Pineau Joelle</td>\n      <td>102</td>\n    </tr>\n    <tr>\n      <th>138684</th>\n      <td>Walsh Toby</td>\n      <td>102</td>\n    </tr>\n    <tr>\n      <th>152970</th>\n      <td>Zhang Wei</td>\n      <td>98</td>\n    </tr>\n    <tr>\n      <th>124653</th>\n      <td>Song Le</td>\n      <td>98</td>\n    </tr>\n    <tr>\n      <th>125505</th>\n      <td>Srebro Nathan</td>\n      <td>98</td>\n    </tr>\n    <tr>\n      <th>78665</th>\n      <td>Liu Qiang</td>\n      <td>95</td>\n    </tr>\n    <tr>\n      <th>105689</th>\n      <td>Precup Doina</td>\n      <td>95</td>\n    </tr>\n    <tr>\n      <th>37568</th>\n      <td>Finn Chelsea</td>\n      <td>95</td>\n    </tr>\n    <tr>\n      <th>83204</th>\n      <td>Mahoney Michael W.</td>\n      <td>95</td>\n    </tr>\n    <tr>\n      <th>48548</th>\n      <td>Halpern Joseph Y.</td>\n      <td>95</td>\n    </tr>\n    <tr>\n      <th>42347</th>\n      <td>Ghahramani Zoubin</td>\n      <td>94</td>\n    </tr>\n    <tr>\n      <th>140336</th>\n      <td>Wang Xin</td>\n      <td>94</td>\n    </tr>\n    <tr>\n      <th>131039</th>\n      <td>Tenenbaum Joshua B.</td>\n      <td>94</td>\n    </tr>\n    <tr>\n      <th>42809</th>\n      <td>Giannakis Georgios B.</td>\n      <td>92</td>\n    </tr>\n    <tr>\n      <th>63171</th>\n      <td>Kaski Samuel</td>\n      <td>91</td>\n    </tr>\n    <tr>\n      <th>136643</th>\n      <td>Venkatesh Svetha</td>\n      <td>91</td>\n    </tr>\n  </tbody>\n</table>\n</div>"
     },
     "metadata": {},
     "execution_count": 20
    }
   ],
   "source": [
    "ai_authors=pd.DataFrame(flattenList(data['authors'].tolist())).rename(columns={0:'authors'})\n",
    "papers_by_authors=ai_authors.groupby(['authors']).size().reset_index().rename(columns={0:'Number of Papers Published'}).sort_values(\"Number of Papers Published\",ascending=False).head(50)\n",
    "papers_by_authors"
   ]
  },
  {
   "source": [
    "Lets get the graph of these top 10 Authors with their first step neighbours"
   ],
   "cell_type": "markdown",
   "metadata": {}
  },
  {
   "cell_type": "code",
   "execution_count": 162,
   "metadata": {},
   "outputs": [],
   "source": [
    "def getCoAuthorshipNetwork(graph,initial_nodes):\n",
    "    \"\"\"\n",
    "    This function takes a Graph and list of initial nodes \n",
    "    \n",
    "    Returns the set of immediate neighbours of these nodes\n",
    "\n",
    "    \"\"\"\n",
    "    total_neighbours=0\n",
    "    nodes_set=[initial_nodes]\n",
    "    for node in initial_nodes:\n",
    "        #print(node)\n",
    "        neighbours=list(graph.neighbors(node))\n",
    "        total_neighbours=total_neighbours+len(neighbours)\n",
    "        \n",
    "        nodes_set.append(neighbours)\n",
    "    print(total_neighbours)\n",
    "    nodes_set=flattenList(nodes_set)\n",
    "    return list(set(nodes_set))\n",
    "\n"
   ]
  },
  {
   "cell_type": "code",
   "execution_count": 163,
   "metadata": {},
   "outputs": [
    {
     "output_type": "stream",
     "name": "stdout",
     "text": [
      "3854\nNumber of CoAuthor Nodes  3434\n"
     ]
    }
   ],
   "source": [
    "\n",
    "coauthor_nodes=getCoAuthorshipNetwork(G,papers_by_authors['authors'].tolist()[0:10])\n",
    "print(\"Number of CoAuthor Nodes \",len(coauthor_nodes))"
   ]
  },
  {
   "cell_type": "code",
   "execution_count": 164,
   "metadata": {},
   "outputs": [
    {
     "output_type": "stream",
     "name": "stdout",
     "text": [
      "number of edges in the CoAuthor Subgraph  37830\n"
     ]
    }
   ],
   "source": [
    "coauthor_subgraph=nx.subgraph(G,coauthor_nodes)\n",
    "print(\"number of edges in the CoAuthor Subgraph \",len(coauthor_subgraph.edges()))"
   ]
  },
  {
   "cell_type": "code",
   "execution_count": 165,
   "metadata": {},
   "outputs": [],
   "source": [
    "nx.write_gexf(coauthor_subgraph, \"CoAuthor_Subgraph_Top10Author.gexf\")"
   ]
  },
  {
   "cell_type": "code",
   "execution_count": 166,
   "metadata": {},
   "outputs": [
    {
     "output_type": "stream",
     "name": "stdout",
     "text": [
      "number of edges in the CoAuthor Subgraph  37830\n"
     ]
    }
   ],
   "source": [
    "coauthor_subgraph=nx.read_gexf(\"CoAuthor_Subgraph_Top10Author.gexf\")\n",
    "print(\"number of edges in the CoAuthor Subgraph \",len(coauthor_subgraph.edges()))"
   ]
  },
  {
   "cell_type": "code",
   "execution_count": 167,
   "metadata": {},
   "outputs": [
    {
     "output_type": "stream",
     "name": "stdout",
     "text": [
      "Creating PyVis from NetworkX\n",
      "Saving PyVis Graph\n"
     ]
    },
    {
     "output_type": "execute_result",
     "data": {
      "text/plain": [
       "<IPython.lib.display.IFrame at 0x14a5eeac0>"
      ],
      "text/html": "\n        <iframe\n            width=\"100%\"\n            height=\"800px\"\n            src=\"Top10Author_CoAuthorGraph.html\"\n            frameborder=\"0\"\n            allowfullscreen\n        ></iframe>\n        "
     },
     "metadata": {},
     "execution_count": 167
    }
   ],
   "source": [
    "pyvis_nt=Network(notebook=True,height='800px', width='100%',heading='')\n",
    "\n",
    "print(\"Creating PyVis from NetworkX\")\n",
    "pyvis_nt.from_nx(coauthor_subgraph)\n",
    "\n",
    "print(\"Saving PyVis Graph\")\n",
    "pyvis_nt.show(\"Top10Author_CoAuthorGraph.html\")\n",
    "\n"
   ]
  },
  {
   "source": [
    "### Cluster the Nodes - based on Embeddings\n",
    "\n",
    "Idea is to see if similar nodes belong to the same cluster. "
   ],
   "cell_type": "markdown",
   "metadata": {}
  },
  {
   "cell_type": "code",
   "execution_count": 168,
   "metadata": {},
   "outputs": [],
   "source": [
    "def getCosineDistanceMatrix(vectors):\n",
    "    '''\n",
    "    This function takes list of vectors or numpy array \n",
    "    \n",
    "    Returns the pairwise cosine similarity matrix\n",
    "    '''\n",
    "    if type(vectors)==list:\n",
    "        X=np.asarray(vectors)\n",
    "    elif type(vectors)==np.ndarray:\n",
    "        X=vectors\n",
    "    else:\n",
    "        print(\"Error in Data Type . Need to Pass list or numpy array as input argument\")\n",
    "        return []\n",
    "    cosine_dist=cosine_distances(X)\n",
    "    return cosine_dist\n"
   ]
  },
  {
   "cell_type": "code",
   "execution_count": 169,
   "metadata": {},
   "outputs": [
    {
     "output_type": "stream",
     "name": "stdout",
     "text": [
      "Number of CoAuthor Subgraph Nodes 3434\n"
     ]
    }
   ],
   "source": [
    "coauthor_nodes=list(coauthor_subgraph.nodes)\n",
    "print(\"Number of CoAuthor Subgraph Nodes\",len(coauthor_nodes))"
   ]
  },
  {
   "cell_type": "code",
   "execution_count": 170,
   "metadata": {},
   "outputs": [
    {
     "output_type": "stream",
     "name": "stdout",
     "text": [
      "<class 'list'>\n<class 'numpy.ndarray'>\n(128,)\n"
     ]
    }
   ],
   "source": [
    "coauthor_embeddings=[deepwalk_model.wv[node] for node in coauthor_nodes]\n",
    "print(type(coauthor_embeddings))\n",
    "print(type(coauthor_embeddings[0]))\n",
    "print(coauthor_embeddings[0].shape)"
   ]
  },
  {
   "cell_type": "code",
   "execution_count": 171,
   "metadata": {},
   "outputs": [
    {
     "output_type": "stream",
     "name": "stdout",
     "text": [
      "(3434, 128)\n"
     ]
    }
   ],
   "source": [
    "coauthor_embeddings=np.asarray(coauthor_embeddings)\n",
    "print(coauthor_embeddings.shape)"
   ]
  },
  {
   "cell_type": "code",
   "execution_count": 172,
   "metadata": {},
   "outputs": [],
   "source": [
    "cosine_dist=getCosineDistanceMatrix(coauthor_embeddings)\n"
   ]
  },
  {
   "cell_type": "code",
   "execution_count": 173,
   "metadata": {},
   "outputs": [],
   "source": [
    "sse=[]\n",
    "k_list=[]\n",
    "for k in range(2,40):\n",
    "    km=KMeans(n_clusters=k)\n",
    "    km.fit(cosine_dist)\n",
    "    sse.append(km.inertia_)\n",
    "\n",
    "\n"
   ]
  },
  {
   "cell_type": "code",
   "execution_count": 175,
   "metadata": {},
   "outputs": [
    {
     "output_type": "execute_result",
     "data": {
      "text/plain": [
       "[<matplotlib.lines.Line2D at 0x14b1d7040>]"
      ]
     },
     "metadata": {},
     "execution_count": 175
    },
    {
     "output_type": "display_data",
     "data": {
      "text/plain": "<Figure size 864x432 with 1 Axes>",
      "image/svg+xml": "<?xml version=\"1.0\" encoding=\"utf-8\" standalone=\"no\"?>\n<!DOCTYPE svg PUBLIC \"-//W3C//DTD SVG 1.1//EN\"\n  \"http://www.w3.org/Graphics/SVG/1.1/DTD/svg11.dtd\">\n<!-- Created with matplotlib (https://matplotlib.org/) -->\n<svg height=\"357.238125pt\" version=\"1.1\" viewBox=\"0 0 722.8125 357.238125\" width=\"722.8125pt\" xmlns=\"http://www.w3.org/2000/svg\" xmlns:xlink=\"http://www.w3.org/1999/xlink\">\n <metadata>\n  <rdf:RDF xmlns:cc=\"http://creativecommons.org/ns#\" xmlns:dc=\"http://purl.org/dc/elements/1.1/\" xmlns:rdf=\"http://www.w3.org/1999/02/22-rdf-syntax-ns#\">\n   <cc:Work>\n    <dc:type rdf:resource=\"http://purl.org/dc/dcmitype/StillImage\"/>\n    <dc:date>2021-06-09T13:01:16.498038</dc:date>\n    <dc:format>image/svg+xml</dc:format>\n    <dc:creator>\n     <cc:Agent>\n      <dc:title>Matplotlib v3.3.4, https://matplotlib.org/</dc:title>\n     </cc:Agent>\n    </dc:creator>\n   </cc:Work>\n  </rdf:RDF>\n </metadata>\n <defs>\n  <style type=\"text/css\">*{stroke-linecap:butt;stroke-linejoin:round;}</style>\n </defs>\n <g id=\"figure_1\">\n  <g id=\"patch_1\">\n   <path d=\"M 0 357.238125 \nL 722.8125 357.238125 \nL 722.8125 0 \nL 0 0 \nz\n\" style=\"fill:none;\"/>\n  </g>\n  <g id=\"axes_1\">\n   <g id=\"patch_2\">\n    <path d=\"M 46.0125 333.36 \nL 715.6125 333.36 \nL 715.6125 7.2 \nL 46.0125 7.2 \nz\n\" style=\"fill:#ffffff;\"/>\n   </g>\n   <g id=\"matplotlib.axis_1\">\n    <g id=\"xtick_1\">\n     <g id=\"line2d_1\">\n      <defs>\n       <path d=\"M 0 0 \nL 0 3.5 \n\" id=\"m777bc274f6\" style=\"stroke:#000000;stroke-width:0.8;\"/>\n      </defs>\n      <g>\n       <use style=\"stroke:#000000;stroke-width:0.8;\" x=\"125.805129\" xlink:href=\"#m777bc274f6\" y=\"333.36\"/>\n      </g>\n     </g>\n     <g id=\"text_1\">\n      <!-- 5 -->\n      <g transform=\"translate(122.623879 347.958438)scale(0.1 -0.1)\">\n       <defs>\n        <path d=\"M 10.796875 72.90625 \nL 49.515625 72.90625 \nL 49.515625 64.59375 \nL 19.828125 64.59375 \nL 19.828125 46.734375 \nQ 21.96875 47.46875 24.109375 47.828125 \nQ 26.265625 48.1875 28.421875 48.1875 \nQ 40.625 48.1875 47.75 41.5 \nQ 54.890625 34.8125 54.890625 23.390625 \nQ 54.890625 11.625 47.5625 5.09375 \nQ 40.234375 -1.421875 26.90625 -1.421875 \nQ 22.3125 -1.421875 17.546875 -0.640625 \nQ 12.796875 0.140625 7.71875 1.703125 \nL 7.71875 11.625 \nQ 12.109375 9.234375 16.796875 8.0625 \nQ 21.484375 6.890625 26.703125 6.890625 \nQ 35.15625 6.890625 40.078125 11.328125 \nQ 45.015625 15.765625 45.015625 23.390625 \nQ 45.015625 31 40.078125 35.4375 \nQ 35.15625 39.890625 26.703125 39.890625 \nQ 22.75 39.890625 18.8125 39.015625 \nQ 14.890625 38.140625 10.796875 36.28125 \nz\n\" id=\"DejaVuSans-53\"/>\n       </defs>\n       <use xlink:href=\"#DejaVuSans-53\"/>\n      </g>\n     </g>\n    </g>\n    <g id=\"xtick_2\">\n     <g id=\"line2d_2\">\n      <g>\n       <use style=\"stroke:#000000;stroke-width:0.8;\" x=\"208.065571\" xlink:href=\"#m777bc274f6\" y=\"333.36\"/>\n      </g>\n     </g>\n     <g id=\"text_2\">\n      <!-- 10 -->\n      <g transform=\"translate(201.703071 347.958438)scale(0.1 -0.1)\">\n       <defs>\n        <path d=\"M 12.40625 8.296875 \nL 28.515625 8.296875 \nL 28.515625 63.921875 \nL 10.984375 60.40625 \nL 10.984375 69.390625 \nL 28.421875 72.90625 \nL 38.28125 72.90625 \nL 38.28125 8.296875 \nL 54.390625 8.296875 \nL 54.390625 0 \nL 12.40625 0 \nz\n\" id=\"DejaVuSans-49\"/>\n        <path d=\"M 31.78125 66.40625 \nQ 24.171875 66.40625 20.328125 58.90625 \nQ 16.5 51.421875 16.5 36.375 \nQ 16.5 21.390625 20.328125 13.890625 \nQ 24.171875 6.390625 31.78125 6.390625 \nQ 39.453125 6.390625 43.28125 13.890625 \nQ 47.125 21.390625 47.125 36.375 \nQ 47.125 51.421875 43.28125 58.90625 \nQ 39.453125 66.40625 31.78125 66.40625 \nz\nM 31.78125 74.21875 \nQ 44.046875 74.21875 50.515625 64.515625 \nQ 56.984375 54.828125 56.984375 36.375 \nQ 56.984375 17.96875 50.515625 8.265625 \nQ 44.046875 -1.421875 31.78125 -1.421875 \nQ 19.53125 -1.421875 13.0625 8.265625 \nQ 6.59375 17.96875 6.59375 36.375 \nQ 6.59375 54.828125 13.0625 64.515625 \nQ 19.53125 74.21875 31.78125 74.21875 \nz\n\" id=\"DejaVuSans-48\"/>\n       </defs>\n       <use xlink:href=\"#DejaVuSans-49\"/>\n       <use x=\"63.623047\" xlink:href=\"#DejaVuSans-48\"/>\n      </g>\n     </g>\n    </g>\n    <g id=\"xtick_3\">\n     <g id=\"line2d_3\">\n      <g>\n       <use style=\"stroke:#000000;stroke-width:0.8;\" x=\"290.326014\" xlink:href=\"#m777bc274f6\" y=\"333.36\"/>\n      </g>\n     </g>\n     <g id=\"text_3\">\n      <!-- 15 -->\n      <g transform=\"translate(283.963514 347.958438)scale(0.1 -0.1)\">\n       <use xlink:href=\"#DejaVuSans-49\"/>\n       <use x=\"63.623047\" xlink:href=\"#DejaVuSans-53\"/>\n      </g>\n     </g>\n    </g>\n    <g id=\"xtick_4\">\n     <g id=\"line2d_4\">\n      <g>\n       <use style=\"stroke:#000000;stroke-width:0.8;\" x=\"372.586456\" xlink:href=\"#m777bc274f6\" y=\"333.36\"/>\n      </g>\n     </g>\n     <g id=\"text_4\">\n      <!-- 20 -->\n      <g transform=\"translate(366.223956 347.958438)scale(0.1 -0.1)\">\n       <defs>\n        <path d=\"M 19.1875 8.296875 \nL 53.609375 8.296875 \nL 53.609375 0 \nL 7.328125 0 \nL 7.328125 8.296875 \nQ 12.9375 14.109375 22.625 23.890625 \nQ 32.328125 33.6875 34.8125 36.53125 \nQ 39.546875 41.84375 41.421875 45.53125 \nQ 43.3125 49.21875 43.3125 52.78125 \nQ 43.3125 58.59375 39.234375 62.25 \nQ 35.15625 65.921875 28.609375 65.921875 \nQ 23.96875 65.921875 18.8125 64.3125 \nQ 13.671875 62.703125 7.8125 59.421875 \nL 7.8125 69.390625 \nQ 13.765625 71.78125 18.9375 73 \nQ 24.125 74.21875 28.421875 74.21875 \nQ 39.75 74.21875 46.484375 68.546875 \nQ 53.21875 62.890625 53.21875 53.421875 \nQ 53.21875 48.921875 51.53125 44.890625 \nQ 49.859375 40.875 45.40625 35.40625 \nQ 44.1875 33.984375 37.640625 27.21875 \nQ 31.109375 20.453125 19.1875 8.296875 \nz\n\" id=\"DejaVuSans-50\"/>\n       </defs>\n       <use xlink:href=\"#DejaVuSans-50\"/>\n       <use x=\"63.623047\" xlink:href=\"#DejaVuSans-48\"/>\n      </g>\n     </g>\n    </g>\n    <g id=\"xtick_5\">\n     <g id=\"line2d_5\">\n      <g>\n       <use style=\"stroke:#000000;stroke-width:0.8;\" x=\"454.846898\" xlink:href=\"#m777bc274f6\" y=\"333.36\"/>\n      </g>\n     </g>\n     <g id=\"text_5\">\n      <!-- 25 -->\n      <g transform=\"translate(448.484398 347.958438)scale(0.1 -0.1)\">\n       <use xlink:href=\"#DejaVuSans-50\"/>\n       <use x=\"63.623047\" xlink:href=\"#DejaVuSans-53\"/>\n      </g>\n     </g>\n    </g>\n    <g id=\"xtick_6\">\n     <g id=\"line2d_6\">\n      <g>\n       <use style=\"stroke:#000000;stroke-width:0.8;\" x=\"537.10734\" xlink:href=\"#m777bc274f6\" y=\"333.36\"/>\n      </g>\n     </g>\n     <g id=\"text_6\">\n      <!-- 30 -->\n      <g transform=\"translate(530.74484 347.958438)scale(0.1 -0.1)\">\n       <defs>\n        <path d=\"M 40.578125 39.3125 \nQ 47.65625 37.796875 51.625 33 \nQ 55.609375 28.21875 55.609375 21.1875 \nQ 55.609375 10.40625 48.1875 4.484375 \nQ 40.765625 -1.421875 27.09375 -1.421875 \nQ 22.515625 -1.421875 17.65625 -0.515625 \nQ 12.796875 0.390625 7.625 2.203125 \nL 7.625 11.71875 \nQ 11.71875 9.328125 16.59375 8.109375 \nQ 21.484375 6.890625 26.8125 6.890625 \nQ 36.078125 6.890625 40.9375 10.546875 \nQ 45.796875 14.203125 45.796875 21.1875 \nQ 45.796875 27.640625 41.28125 31.265625 \nQ 36.765625 34.90625 28.71875 34.90625 \nL 20.21875 34.90625 \nL 20.21875 43.015625 \nL 29.109375 43.015625 \nQ 36.375 43.015625 40.234375 45.921875 \nQ 44.09375 48.828125 44.09375 54.296875 \nQ 44.09375 59.90625 40.109375 62.90625 \nQ 36.140625 65.921875 28.71875 65.921875 \nQ 24.65625 65.921875 20.015625 65.03125 \nQ 15.375 64.15625 9.8125 62.3125 \nL 9.8125 71.09375 \nQ 15.4375 72.65625 20.34375 73.4375 \nQ 25.25 74.21875 29.59375 74.21875 \nQ 40.828125 74.21875 47.359375 69.109375 \nQ 53.90625 64.015625 53.90625 55.328125 \nQ 53.90625 49.265625 50.4375 45.09375 \nQ 46.96875 40.921875 40.578125 39.3125 \nz\n\" id=\"DejaVuSans-51\"/>\n       </defs>\n       <use xlink:href=\"#DejaVuSans-51\"/>\n       <use x=\"63.623047\" xlink:href=\"#DejaVuSans-48\"/>\n      </g>\n     </g>\n    </g>\n    <g id=\"xtick_7\">\n     <g id=\"line2d_7\">\n      <g>\n       <use style=\"stroke:#000000;stroke-width:0.8;\" x=\"619.367783\" xlink:href=\"#m777bc274f6\" y=\"333.36\"/>\n      </g>\n     </g>\n     <g id=\"text_7\">\n      <!-- 35 -->\n      <g transform=\"translate(613.005283 347.958438)scale(0.1 -0.1)\">\n       <use xlink:href=\"#DejaVuSans-51\"/>\n       <use x=\"63.623047\" xlink:href=\"#DejaVuSans-53\"/>\n      </g>\n     </g>\n    </g>\n    <g id=\"xtick_8\">\n     <g id=\"line2d_8\">\n      <g>\n       <use style=\"stroke:#000000;stroke-width:0.8;\" x=\"701.628225\" xlink:href=\"#m777bc274f6\" y=\"333.36\"/>\n      </g>\n     </g>\n     <g id=\"text_8\">\n      <!-- 40 -->\n      <g transform=\"translate(695.265725 347.958438)scale(0.1 -0.1)\">\n       <defs>\n        <path d=\"M 37.796875 64.3125 \nL 12.890625 25.390625 \nL 37.796875 25.390625 \nz\nM 35.203125 72.90625 \nL 47.609375 72.90625 \nL 47.609375 25.390625 \nL 58.015625 25.390625 \nL 58.015625 17.1875 \nL 47.609375 17.1875 \nL 47.609375 0 \nL 37.796875 0 \nL 37.796875 17.1875 \nL 4.890625 17.1875 \nL 4.890625 26.703125 \nz\n\" id=\"DejaVuSans-52\"/>\n       </defs>\n       <use xlink:href=\"#DejaVuSans-52\"/>\n       <use x=\"63.623047\" xlink:href=\"#DejaVuSans-48\"/>\n      </g>\n     </g>\n    </g>\n   </g>\n   <g id=\"matplotlib.axis_2\">\n    <g id=\"ytick_1\">\n     <g id=\"line2d_9\">\n      <defs>\n       <path d=\"M 0 0 \nL -3.5 0 \n\" id=\"m1effa216ca\" style=\"stroke:#000000;stroke-width:0.8;\"/>\n      </defs>\n      <g>\n       <use style=\"stroke:#000000;stroke-width:0.8;\" x=\"46.0125\" xlink:href=\"#m1effa216ca\" y=\"307.854234\"/>\n      </g>\n     </g>\n     <g id=\"text_9\">\n      <!-- 40000 -->\n      <g transform=\"translate(7.2 311.653453)scale(0.1 -0.1)\">\n       <use xlink:href=\"#DejaVuSans-52\"/>\n       <use x=\"63.623047\" xlink:href=\"#DejaVuSans-48\"/>\n       <use x=\"127.246094\" xlink:href=\"#DejaVuSans-48\"/>\n       <use x=\"190.869141\" xlink:href=\"#DejaVuSans-48\"/>\n       <use x=\"254.492188\" xlink:href=\"#DejaVuSans-48\"/>\n      </g>\n     </g>\n    </g>\n    <g id=\"ytick_2\">\n     <g id=\"line2d_10\">\n      <g>\n       <use style=\"stroke:#000000;stroke-width:0.8;\" x=\"46.0125\" xlink:href=\"#m1effa216ca\" y=\"255.482617\"/>\n      </g>\n     </g>\n     <g id=\"text_10\">\n      <!-- 50000 -->\n      <g transform=\"translate(7.2 259.281835)scale(0.1 -0.1)\">\n       <use xlink:href=\"#DejaVuSans-53\"/>\n       <use x=\"63.623047\" xlink:href=\"#DejaVuSans-48\"/>\n       <use x=\"127.246094\" xlink:href=\"#DejaVuSans-48\"/>\n       <use x=\"190.869141\" xlink:href=\"#DejaVuSans-48\"/>\n       <use x=\"254.492188\" xlink:href=\"#DejaVuSans-48\"/>\n      </g>\n     </g>\n    </g>\n    <g id=\"ytick_3\">\n     <g id=\"line2d_11\">\n      <g>\n       <use style=\"stroke:#000000;stroke-width:0.8;\" x=\"46.0125\" xlink:href=\"#m1effa216ca\" y=\"203.111\"/>\n      </g>\n     </g>\n     <g id=\"text_11\">\n      <!-- 60000 -->\n      <g transform=\"translate(7.2 206.910218)scale(0.1 -0.1)\">\n       <defs>\n        <path d=\"M 33.015625 40.375 \nQ 26.375 40.375 22.484375 35.828125 \nQ 18.609375 31.296875 18.609375 23.390625 \nQ 18.609375 15.53125 22.484375 10.953125 \nQ 26.375 6.390625 33.015625 6.390625 \nQ 39.65625 6.390625 43.53125 10.953125 \nQ 47.40625 15.53125 47.40625 23.390625 \nQ 47.40625 31.296875 43.53125 35.828125 \nQ 39.65625 40.375 33.015625 40.375 \nz\nM 52.59375 71.296875 \nL 52.59375 62.3125 \nQ 48.875 64.0625 45.09375 64.984375 \nQ 41.3125 65.921875 37.59375 65.921875 \nQ 27.828125 65.921875 22.671875 59.328125 \nQ 17.53125 52.734375 16.796875 39.40625 \nQ 19.671875 43.65625 24.015625 45.921875 \nQ 28.375 48.1875 33.59375 48.1875 \nQ 44.578125 48.1875 50.953125 41.515625 \nQ 57.328125 34.859375 57.328125 23.390625 \nQ 57.328125 12.15625 50.6875 5.359375 \nQ 44.046875 -1.421875 33.015625 -1.421875 \nQ 20.359375 -1.421875 13.671875 8.265625 \nQ 6.984375 17.96875 6.984375 36.375 \nQ 6.984375 53.65625 15.1875 63.9375 \nQ 23.390625 74.21875 37.203125 74.21875 \nQ 40.921875 74.21875 44.703125 73.484375 \nQ 48.484375 72.75 52.59375 71.296875 \nz\n\" id=\"DejaVuSans-54\"/>\n       </defs>\n       <use xlink:href=\"#DejaVuSans-54\"/>\n       <use x=\"63.623047\" xlink:href=\"#DejaVuSans-48\"/>\n       <use x=\"127.246094\" xlink:href=\"#DejaVuSans-48\"/>\n       <use x=\"190.869141\" xlink:href=\"#DejaVuSans-48\"/>\n       <use x=\"254.492188\" xlink:href=\"#DejaVuSans-48\"/>\n      </g>\n     </g>\n    </g>\n    <g id=\"ytick_4\">\n     <g id=\"line2d_12\">\n      <g>\n       <use style=\"stroke:#000000;stroke-width:0.8;\" x=\"46.0125\" xlink:href=\"#m1effa216ca\" y=\"150.739382\"/>\n      </g>\n     </g>\n     <g id=\"text_12\">\n      <!-- 70000 -->\n      <g transform=\"translate(7.2 154.538601)scale(0.1 -0.1)\">\n       <defs>\n        <path d=\"M 8.203125 72.90625 \nL 55.078125 72.90625 \nL 55.078125 68.703125 \nL 28.609375 0 \nL 18.3125 0 \nL 43.21875 64.59375 \nL 8.203125 64.59375 \nz\n\" id=\"DejaVuSans-55\"/>\n       </defs>\n       <use xlink:href=\"#DejaVuSans-55\"/>\n       <use x=\"63.623047\" xlink:href=\"#DejaVuSans-48\"/>\n       <use x=\"127.246094\" xlink:href=\"#DejaVuSans-48\"/>\n       <use x=\"190.869141\" xlink:href=\"#DejaVuSans-48\"/>\n       <use x=\"254.492188\" xlink:href=\"#DejaVuSans-48\"/>\n      </g>\n     </g>\n    </g>\n    <g id=\"ytick_5\">\n     <g id=\"line2d_13\">\n      <g>\n       <use style=\"stroke:#000000;stroke-width:0.8;\" x=\"46.0125\" xlink:href=\"#m1effa216ca\" y=\"98.367765\"/>\n      </g>\n     </g>\n     <g id=\"text_13\">\n      <!-- 80000 -->\n      <g transform=\"translate(7.2 102.166984)scale(0.1 -0.1)\">\n       <defs>\n        <path d=\"M 31.78125 34.625 \nQ 24.75 34.625 20.71875 30.859375 \nQ 16.703125 27.09375 16.703125 20.515625 \nQ 16.703125 13.921875 20.71875 10.15625 \nQ 24.75 6.390625 31.78125 6.390625 \nQ 38.8125 6.390625 42.859375 10.171875 \nQ 46.921875 13.96875 46.921875 20.515625 \nQ 46.921875 27.09375 42.890625 30.859375 \nQ 38.875 34.625 31.78125 34.625 \nz\nM 21.921875 38.8125 \nQ 15.578125 40.375 12.03125 44.71875 \nQ 8.5 49.078125 8.5 55.328125 \nQ 8.5 64.0625 14.71875 69.140625 \nQ 20.953125 74.21875 31.78125 74.21875 \nQ 42.671875 74.21875 48.875 69.140625 \nQ 55.078125 64.0625 55.078125 55.328125 \nQ 55.078125 49.078125 51.53125 44.71875 \nQ 48 40.375 41.703125 38.8125 \nQ 48.828125 37.15625 52.796875 32.3125 \nQ 56.78125 27.484375 56.78125 20.515625 \nQ 56.78125 9.90625 50.3125 4.234375 \nQ 43.84375 -1.421875 31.78125 -1.421875 \nQ 19.734375 -1.421875 13.25 4.234375 \nQ 6.78125 9.90625 6.78125 20.515625 \nQ 6.78125 27.484375 10.78125 32.3125 \nQ 14.796875 37.15625 21.921875 38.8125 \nz\nM 18.3125 54.390625 \nQ 18.3125 48.734375 21.84375 45.5625 \nQ 25.390625 42.390625 31.78125 42.390625 \nQ 38.140625 42.390625 41.71875 45.5625 \nQ 45.3125 48.734375 45.3125 54.390625 \nQ 45.3125 60.0625 41.71875 63.234375 \nQ 38.140625 66.40625 31.78125 66.40625 \nQ 25.390625 66.40625 21.84375 63.234375 \nQ 18.3125 60.0625 18.3125 54.390625 \nz\n\" id=\"DejaVuSans-56\"/>\n       </defs>\n       <use xlink:href=\"#DejaVuSans-56\"/>\n       <use x=\"63.623047\" xlink:href=\"#DejaVuSans-48\"/>\n       <use x=\"127.246094\" xlink:href=\"#DejaVuSans-48\"/>\n       <use x=\"190.869141\" xlink:href=\"#DejaVuSans-48\"/>\n       <use x=\"254.492188\" xlink:href=\"#DejaVuSans-48\"/>\n      </g>\n     </g>\n    </g>\n    <g id=\"ytick_6\">\n     <g id=\"line2d_14\">\n      <g>\n       <use style=\"stroke:#000000;stroke-width:0.8;\" x=\"46.0125\" xlink:href=\"#m1effa216ca\" y=\"45.996148\"/>\n      </g>\n     </g>\n     <g id=\"text_14\">\n      <!-- 90000 -->\n      <g transform=\"translate(7.2 49.795367)scale(0.1 -0.1)\">\n       <defs>\n        <path d=\"M 10.984375 1.515625 \nL 10.984375 10.5 \nQ 14.703125 8.734375 18.5 7.8125 \nQ 22.3125 6.890625 25.984375 6.890625 \nQ 35.75 6.890625 40.890625 13.453125 \nQ 46.046875 20.015625 46.78125 33.40625 \nQ 43.953125 29.203125 39.59375 26.953125 \nQ 35.25 24.703125 29.984375 24.703125 \nQ 19.046875 24.703125 12.671875 31.3125 \nQ 6.296875 37.9375 6.296875 49.421875 \nQ 6.296875 60.640625 12.9375 67.421875 \nQ 19.578125 74.21875 30.609375 74.21875 \nQ 43.265625 74.21875 49.921875 64.515625 \nQ 56.59375 54.828125 56.59375 36.375 \nQ 56.59375 19.140625 48.40625 8.859375 \nQ 40.234375 -1.421875 26.421875 -1.421875 \nQ 22.703125 -1.421875 18.890625 -0.6875 \nQ 15.09375 0.046875 10.984375 1.515625 \nz\nM 30.609375 32.421875 \nQ 37.25 32.421875 41.125 36.953125 \nQ 45.015625 41.5 45.015625 49.421875 \nQ 45.015625 57.28125 41.125 61.84375 \nQ 37.25 66.40625 30.609375 66.40625 \nQ 23.96875 66.40625 20.09375 61.84375 \nQ 16.21875 57.28125 16.21875 49.421875 \nQ 16.21875 41.5 20.09375 36.953125 \nQ 23.96875 32.421875 30.609375 32.421875 \nz\n\" id=\"DejaVuSans-57\"/>\n       </defs>\n       <use xlink:href=\"#DejaVuSans-57\"/>\n       <use x=\"63.623047\" xlink:href=\"#DejaVuSans-48\"/>\n       <use x=\"127.246094\" xlink:href=\"#DejaVuSans-48\"/>\n       <use x=\"190.869141\" xlink:href=\"#DejaVuSans-48\"/>\n       <use x=\"254.492188\" xlink:href=\"#DejaVuSans-48\"/>\n      </g>\n     </g>\n    </g>\n   </g>\n   <g id=\"line2d_15\">\n    <path clip-path=\"url(#p9a9c7f5cbc)\" d=\"M 76.448864 22.025455 \nL 92.900952 76.670777 \nL 109.353041 114.369504 \nL 125.805129 146.888268 \nL 142.257217 178.118855 \nL 158.709306 195.029404 \nL 175.161394 211.442444 \nL 191.613483 224.579885 \nL 208.065571 234.76821 \nL 224.51766 245.600174 \nL 240.969748 254.31655 \nL 257.421837 261.879544 \nL 273.873925 267.430915 \nL 290.326014 272.599339 \nL 306.778102 276.597646 \nL 323.23019 281.505296 \nL 339.682279 285.696416 \nL 356.134367 287.822684 \nL 372.586456 290.926029 \nL 389.038544 293.542523 \nL 405.490633 295.604799 \nL 421.942721 297.744589 \nL 438.39481 299.920118 \nL 454.846898 301.743203 \nL 471.298986 303.447612 \nL 487.751075 305.114421 \nL 504.203163 307.279905 \nL 520.655252 308.457326 \nL 537.10734 309.713038 \nL 553.559429 311.018666 \nL 570.011517 312.08494 \nL 586.463606 312.819411 \nL 602.915694 314.201162 \nL 619.367783 314.866977 \nL 635.819871 315.430402 \nL 652.271959 316.843167 \nL 668.724048 317.591488 \nL 685.176136 318.534545 \n\" style=\"fill:none;stroke:#1f77b4;stroke-linecap:square;stroke-width:1.5;\"/>\n   </g>\n   <g id=\"patch_3\">\n    <path d=\"M 46.0125 333.36 \nL 46.0125 7.2 \n\" style=\"fill:none;stroke:#000000;stroke-linecap:square;stroke-linejoin:miter;stroke-width:0.8;\"/>\n   </g>\n   <g id=\"patch_4\">\n    <path d=\"M 715.6125 333.36 \nL 715.6125 7.2 \n\" style=\"fill:none;stroke:#000000;stroke-linecap:square;stroke-linejoin:miter;stroke-width:0.8;\"/>\n   </g>\n   <g id=\"patch_5\">\n    <path d=\"M 46.0125 333.36 \nL 715.6125 333.36 \n\" style=\"fill:none;stroke:#000000;stroke-linecap:square;stroke-linejoin:miter;stroke-width:0.8;\"/>\n   </g>\n   <g id=\"patch_6\">\n    <path d=\"M 46.0125 7.2 \nL 715.6125 7.2 \n\" style=\"fill:none;stroke:#000000;stroke-linecap:square;stroke-linejoin:miter;stroke-width:0.8;\"/>\n   </g>\n  </g>\n </g>\n <defs>\n  <clipPath id=\"p9a9c7f5cbc\">\n   <rect height=\"326.16\" width=\"669.6\" x=\"46.0125\" y=\"7.2\"/>\n  </clipPath>\n </defs>\n</svg>\n",
      "image/png": "[encoded data removed]"
     },
     "metadata": {
      "needs_background": "light"
     }
    }
   ],
   "source": [
    "plt.figure(figsize=(12,6))\n",
    "plt.plot([i for i in range(2,40)],sse)\n"
   ]
  },
  {
   "source": [
    "Lets pick 20clusters and update Node Attribute of the coAuthor Subgraph "
   ],
   "cell_type": "markdown",
   "metadata": {}
  },
  {
   "cell_type": "code",
   "execution_count": 176,
   "metadata": {},
   "outputs": [],
   "source": [
    "km=KMeans(n_clusters=20)\n",
    "coauthor_clusters=km.fit_predict(cosine_dist)\n",
    "coauthor_cluster_dict={node:str(coauthor_clusters[idx]) for idx,node in enumerate(coauthor_nodes)}\n",
    "nx.set_node_attributes(coauthor_subgraph,coauthor_cluster_dict,\"group\")"
   ]
  },
  {
   "cell_type": "code",
   "execution_count": 177,
   "metadata": {},
   "outputs": [
    {
     "output_type": "stream",
     "name": "stdout",
     "text": [
      "Creating PyVis from NetworkX\n",
      "Saving PyVis Graph\n"
     ]
    },
    {
     "output_type": "execute_result",
     "data": {
      "text/plain": [
       "<IPython.lib.display.IFrame at 0x14a75c790>"
      ],
      "text/html": "\n        <iframe\n            width=\"100%\"\n            height=\"800px\"\n            src=\"Top10Author_CoAuthorGraph_Clustered.html\"\n            frameborder=\"0\"\n            allowfullscreen\n        ></iframe>\n        "
     },
     "metadata": {},
     "execution_count": 177
    }
   ],
   "source": [
    "pyvis_nt=Network(notebook=True,height='800px', width='100%',heading='')\n",
    "\n",
    "print(\"Creating PyVis from NetworkX\")\n",
    "pyvis_nt.from_nx(coauthor_subgraph)\n",
    "\n",
    "print(\"Saving PyVis Graph\")\n",
    "pyvis_nt.show(\"Top10Author_CoAuthorGraph_Clustered.html\")"
   ]
  },
  {
   "source": [
    "From the Graph, we can see that the graph containing Aickelin Uwe is clearly seperated from rest of the network. Also, we cam see that there are smaller groups colored \"Green\" and \"Blue\" that are more densely connected within each other as compared to the rest of the network."
   ],
   "cell_type": "markdown",
   "metadata": {}
  },
  {
   "cell_type": "code",
   "execution_count": null,
   "metadata": {},
   "outputs": [],
   "source": []
  }
 ]
}